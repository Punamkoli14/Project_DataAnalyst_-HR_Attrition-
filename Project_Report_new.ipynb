{
 "cells": [
  {
   "cell_type": "markdown",
   "id": "2d0eb5eb-356b-4e6a-8358-40bf5d364ff4",
   "metadata": {},
   "source": [
    "# Introduction"
   ]
  },
  {
   "cell_type": "markdown",
   "id": "fcfe7e00-b428-4f07-b002-d978d4c166ff",
   "metadata": {},
   "source": [
    "HR Analytics – Employee Attrition Prediction\n",
    "In today’s competitive business environment, retaining talent is as crucial as hiring the right people. High employee turnover not only disrupts workflow but also increases recruitment and training costs. This project focuses on using HR analytics and machine learning to predict employee attrition — identifying which employees are likely to leave the organization.\n",
    "\n",
    "Using a dataset containing employee information such as age, job role, income, job satisfaction, and work-life balance, a classification model was built to forecast attrition. By leveraging data-driven insights, organisations can take proactive steps to improve employee engagement, strengthen retention strategies, and reduce voluntary exits.\n",
    "\n",
    "The goal of this project is not just to predict attrition, but also to provide actionable recommendations for HR departments to address the root causes of employee dissatisfaction and turnover.\n",
    "\n"
   ]
  },
  {
   "cell_type": "markdown",
   "id": "b7e8aa7c-ab47-42ff-89dd-2815e2e809e2",
   "metadata": {},
   "source": [
    "# Abstract"
   ]
  },
  {
   "cell_type": "markdown",
   "id": "f3796eaf-58fd-4208-bd11-bb856461229f",
   "metadata": {},
   "source": [
    "\n",
    "In the modern workplace, employee attrition poses a significant challenge for Human Resource (HR) departments. Understanding the factors that lead to employee turnover is critical for enhancing workforce stability and organisational growth. This project leverages HR analytics and machine learning techniques to develop a predictive model that identifies employees at risk of leaving the company.\n",
    "\n",
    "Using a real-world dataset containing demographic, professional, and satisfaction-related attributes, the model achieves an accuracy of 88.82%. While it performs well in identifying employees who will stay, it highlights the complexity of accurately predicting those who will leave. Based on the analysis, this project also proposes strategic interventions aimed at improving employee retention, such as enhancing work-life balance, career development opportunities, and monitoring early warning signs.\n",
    "\n",
    "This data-driven approach empowers organisations to make informed decisions, reduce attrition rates, and create a more engaged and loyal workforce.\n",
    "\n"
   ]
  },
  {
   "cell_type": "markdown",
   "id": "2d85a091-a74e-4b4a-8012-8832926e57ff",
   "metadata": {},
   "source": [
    "# Tools & Technologies Used:"
   ]
  },
  {
   "cell_type": "markdown",
   "id": "384651fc-faae-419d-9cef-dea3b9a60716",
   "metadata": {},
   "source": [
    "\n",
    "1)Power Bi\n",
    "2)Python \n",
    "3)Pandas & NumPy \n",
    "4)Matplotlib & Seaborn\n",
    "5)Scikit-learn\n",
    "6)Jupyter Notebook "
   ]
  },
  {
   "cell_type": "markdown",
   "id": "221d57e5-1d9d-4789-9e6d-ee065662157d",
   "metadata": {},
   "source": [
    "# Dataset"
   ]
  },
  {
   "cell_type": "markdown",
   "id": "74da129f-807c-4568-b736-2b47c9b709e4",
   "metadata": {},
   "source": [
    "https://github.com/Punamkoli14/Project_DataAnalyst_-HR_Attrition-/blob/main/HR_Analytics.csv"
   ]
  },
  {
   "cell_type": "markdown",
   "id": "9044c2a5-568f-408f-8248-607b14927806",
   "metadata": {},
   "source": [
    "# Power Bi Dashboard"
   ]
  },
  {
   "cell_type": "markdown",
   "id": "a1bb0a72-eb63-49a2-8476-2c3d5022035e",
   "metadata": {},
   "source": [
    "https://github.com/Punamkoli14/Project_DataAnalyst_-HR_Attrition-/blob/main/HR_Analytics_Attrition_PowerBiDashboard.png"
   ]
  },
  {
   "cell_type": "markdown",
   "id": "40e2c0f6-bdfc-4261-8e56-51a7b90b907c",
   "metadata": {},
   "source": [
    "# Power Bi report"
   ]
  },
  {
   "cell_type": "markdown",
   "id": "64d1b70a-73a9-4360-af89-83d32a1dd921",
   "metadata": {},
   "source": [
    "https://github.com/Punamkoli14/Project_DataAnalyst_-HR_Attrition-/blob/main/PowerBi_Report.ipynb"
   ]
  },
  {
   "cell_type": "markdown",
   "id": "ebe713d3-221a-4464-88f3-559f7c305dcd",
   "metadata": {},
   "source": [
    "# Analysis Using ML model-Model accuracy and confusion matris"
   ]
  },
  {
   "cell_type": "markdown",
   "id": "332d33c0-9df5-47c6-8916-ae58013c32bb",
   "metadata": {},
   "source": [
    "https://github.com/Punamkoli14/Project_DataAnalyst_-HR_Attrition-/blob/main/HR_analysis_using_ML_model.ipynb"
   ]
  },
  {
   "cell_type": "markdown",
   "id": "5ede90b6-86f4-49f7-a96c-730b03f0f13f",
   "metadata": {},
   "source": [
    "# Steps Involved in Building the Project"
   ]
  },
  {
   "cell_type": "markdown",
   "id": "da6e9970-d02b-4a9e-b574-1bc2d33a5478",
   "metadata": {},
   "source": [
    "\n",
    "1. Problem Definition - Define the business goal: Predict which employees are likely to leave using historical HR data.\n",
    "\n",
    "2. Data Collection -Github\n",
    "\n",
    "   \n",
    "3. Data Preprocessing (Python)-1) Handled missing values.\n",
    "   2)Encoded categorical variables.\n",
    "   3)Scaled numerical features.\n",
    "\n",
    "   \n",
    "\n",
    "4. Exploratory Data Analysis (EDA)-Used Matplotlib and Seaborn for visual analysis.\n",
    "   \n",
    "\n",
    "5.Feature Engineering - Selected relevant features based on correlation and domain knowledge\n",
    "    \n",
    "6. Model Building (Machine Learning) -   1)Split data into training/testing sets.\n",
    "    2)Built classification models using:Random Forest\n",
    "\n",
    "7. Model Evaluation-\n",
    "\n",
    "   Evaluated using metrics:\n",
    "\n",
    "      Accuracy, Report, Confusion Matrix\n",
    "\n",
    "\n",
    "\n",
    "8. Visualization & Dashboard (Power BI) -\n",
    "\n",
    "    Created interactive dashboards to present:\n",
    "\n",
    "      Attrition rates by department, job role, and satisfaction level.\n",
    "      Demographics vs Attrition trends.\n",
    "    Enabled HR teams to explore insights visually and make decisions faster.\n",
    "\n",
    "10.Insights & Recommendations \n",
    "\n",
    "1)Identified key reasons for attrition.\n",
    " 2)Suggested solutions like flexible hours, better compensation, and employee engagement strategies.\n",
    "\n",
    "\n"
   ]
  },
  {
   "cell_type": "markdown",
   "id": "689c72c2-62b8-4db8-9e71-81dcd899086d",
   "metadata": {},
   "source": [
    "# Conclusion\n"
   ]
  },
  {
   "cell_type": "markdown",
   "id": "fec12823-3303-4efe-a800-0d0140fc9a63",
   "metadata": {},
   "source": [
    "\n",
    "The Employee Attrition Prediction project successfully demonstrated how data-driven approaches can assist HR departments in understanding and tackling employee turnover. By applying machine learning models on historical HR data, we were able to identify key factors influencing attrition, such as job satisfaction, overtime, work-life balance, and monthly income.\n",
    "\n",
    "The Power BI dashboard further enhanced the value of this project by offering a visual and interactive way to explore insights, allowing decision-makers to take informed and timely actions.\n",
    "\n",
    "Overall, this project not only helps in predicting which employees are likely to leave but also provides actionable recommendations that can be implemented to improve employee retention, satisfaction, and organisational productivity."
   ]
  },
  {
   "cell_type": "markdown",
   "id": "9aec83ba-976e-4c09-95f0-c2408e6ef42c",
   "metadata": {},
   "source": [
    "# suggestions attrition prevention "
   ]
  },
  {
   "cell_type": "markdown",
   "id": "01d551c3-bfca-456a-b6c3-7d36726638d7",
   "metadata": {},
   "source": [
    " \n",
    "   \n",
    "\n",
    "1)Improve Work-Life Balance .\n",
    "\n",
    "2)Encourage flexible working hours or remote work options.\n",
    "\n",
    "3)Monitor and manage employee overtime carefully.\n",
    "\n",
    "4)Enhance Job Satisfaction .\n",
    "    \n",
    "5)Conduct regular employee feedback surveys.\n",
    "\n",
    "5)Address concerns related to workload, team environment, and management support.\n",
    "\n",
    "6)Offer Career Growth Opportunities .\n",
    "\n",
    "7)Create clear career paths and internal promotion policies.\n",
    "\n",
    "8)Provide training, upskilling programs, and mentorship opportunities.\n",
    "\n",
    "9)Fair and Transparent Compensation.\n",
    "\n",
    "10)Benchmark salaries against industry standards.\n",
    "\n",
    "11)Offer performance-based incentives and bonuses.\n",
    "\n",
    "12)Recognize and Reward Performance .\n",
    "\n",
    "13)Celebrate small and big achievements.\n",
    "\n",
    "14)Introduce employee recognition programs (monthly awards, appreciation emails, etc.).\n",
    "\n",
    "15)Regular One-on-One Meetings .\n",
    "\n",
    "16)Help managers connect with employees on a personal level.\n",
    "\n",
    "17)Address issues early before they lead to dissatisfaction.\n",
    "\n",
    "18)Organize team-building activities, cultural events, and wellness programs.\n",
    "\n",
    "19)Promote a positive and inclusive workplace culture.\n",
    "\n",
    "20)Use Predictive Analytics Continuously .\n",
    "\n",
    "21)Keep refining the attrition model and monitor HR metrics.\n",
    "\n",
    "22)Identify at-risk employees and intervene early.\n",
    "\n"
   ]
  },
  {
   "cell_type": "code",
   "execution_count": null,
   "id": "d3e48c96-a4d3-4ba2-a06f-a56ab80aa4d4",
   "metadata": {},
   "outputs": [],
   "source": []
  }
 ],
 "metadata": {
  "kernelspec": {
   "display_name": "Python 3 (ipykernel)",
   "language": "python",
   "name": "python3"
  },
  "language_info": {
   "codemirror_mode": {
    "name": "ipython",
    "version": 3
   },
   "file_extension": ".py",
   "mimetype": "text/x-python",
   "name": "python",
   "nbconvert_exporter": "python",
   "pygments_lexer": "ipython3",
   "version": "3.11.8"
  }
 },
 "nbformat": 4,
 "nbformat_minor": 5
}
