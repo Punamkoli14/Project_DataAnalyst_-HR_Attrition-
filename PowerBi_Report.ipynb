{
 "cells": [
  {
   "cell_type": "markdown",
   "id": "09653a21-8b40-4f5c-b432-d0497c6cd1d7",
   "metadata": {},
   "source": [
    "📊This interactive Power BI dashboard provides deep insights into employee attrition trends, helping HR professionals make data-driven decisions. Let's break it down:  \n",
    "\n",
    "🔹 Key Metrics:  \n",
    "👥 Total Employees: 1,480  \n",
    "❌ Attrition Count: 238  \n",
    "📉 Attrition Rate: 16.08%  \n",
    "🎂 Average Age: 36.92 years  \n",
    "💰 Average Salary: $6.50K  \n",
    "🏢 Average Tenure: 7.01 years  \n",
    "\n",
    "🔹 Detailed Insights:  \n",
    "✔ Attrition by Education Field – Life Sciences has the highest attrition at 37%  \n",
    "✔ Attrition by Age Group – Highest among employees aged 26-35  \n",
    "✔ Attrition by Salary Slab – Majority of attrition in the Upto 5K range  \n",
    "✔ Attrition by Job Role – Research Scientists & Sales Executives face the highest attrition  \n",
    "✔ Attrition by Business Travel – Frequent travelers vs. non-travelers impact attrition\n",
    "\n",
    "🛠 Filters Available:  \n",
    "✅ Age Group  \n",
    "✅ Business Travel  \n",
    "✅ Department  \n",
    "✅ Education Field  \n",
    "\n",
    "📢 Why This Dashboard Matters?  \n",
    "This dashboard helps HR teams understand why employees leave, identify high-risk groups, and implement better retention strategies! "
   ]
  }
 ],
 "metadata": {
  "kernelspec": {
   "display_name": "Python 3 (ipykernel)",
   "language": "python",
   "name": "python3"
  },
  "language_info": {
   "codemirror_mode": {
    "name": "ipython",
    "version": 3
   },
   "file_extension": ".py",
   "mimetype": "text/x-python",
   "name": "python",
   "nbconvert_exporter": "python",
   "pygments_lexer": "ipython3",
   "version": "3.11.8"
  }
 },
 "nbformat": 4,
 "nbformat_minor": 5
}
